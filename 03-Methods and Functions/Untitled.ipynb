{
 "cells": [
  {
   "cell_type": "code",
   "execution_count": 1,
   "id": "50ee691d",
   "metadata": {},
   "outputs": [],
   "source": [
    "mylist = [1,2,3]"
   ]
  },
  {
   "cell_type": "code",
   "execution_count": 2,
   "id": "78e9a2d2",
   "metadata": {},
   "outputs": [],
   "source": [
    "mylist.append(4)"
   ]
  },
  {
   "cell_type": "code",
   "execution_count": 3,
   "id": "95be2caf",
   "metadata": {},
   "outputs": [
    {
     "data": {
      "text/plain": [
       "[1, 2, 3, 4]"
      ]
     },
     "execution_count": 3,
     "metadata": {},
     "output_type": "execute_result"
    }
   ],
   "source": [
    "mylist"
   ]
  },
  {
   "cell_type": "code",
   "execution_count": 7,
   "id": "e56223ae",
   "metadata": {},
   "outputs": [
    {
     "data": {
      "text/plain": [
       "(0, 1, 2, 3, 4, 5, 6, 7, 8)"
      ]
     },
     "execution_count": 7,
     "metadata": {},
     "output_type": "execute_result"
    }
   ],
   "source": [
    "tuple(range(0,9))"
   ]
  },
  {
   "cell_type": "code",
   "execution_count": 7,
   "id": "e1fba37f",
   "metadata": {},
   "outputs": [],
   "source": [
    "#function\n",
    "def count_num(number):\n",
    "    evenNum = []\n",
    "    for i in number:\n",
    "        if i %2 ==0:\n",
    "            evenNum.append(i)\n",
    "        else:\n",
    "            pass\n",
    "    return evenNum"
   ]
  },
  {
   "cell_type": "code",
   "execution_count": 8,
   "id": "088abad4",
   "metadata": {},
   "outputs": [
    {
     "data": {
      "text/plain": [
       "[2, 4, 6]"
      ]
     },
     "execution_count": 8,
     "metadata": {},
     "output_type": "execute_result"
    }
   ],
   "source": [
    "count_num([1,2,3,4,5,6])"
   ]
  },
  {
   "cell_type": "code",
   "execution_count": 11,
   "id": "bf9d2969",
   "metadata": {},
   "outputs": [],
   "source": [
    "work_hours = [('a',100),('b',400),('c',500)]\n",
    "def best_employee(work_count):\n",
    "    \n",
    "    the_best =''\n",
    "    large_hour = 0\n",
    "    for employee,hours in work_count:\n",
    "        if hours > large_hour:\n",
    "            large_hour = hours\n",
    "            the_best = employee\n",
    "        else:\n",
    "            pass\n",
    "        \n",
    "    #return\n",
    "    return(the_best, hours)"
   ]
  },
  {
   "cell_type": "code",
   "execution_count": 12,
   "id": "7d4fd917",
   "metadata": {},
   "outputs": [
    {
     "data": {
      "text/plain": [
       "('c', 500)"
      ]
     },
     "execution_count": 12,
     "metadata": {},
     "output_type": "execute_result"
    }
   ],
   "source": [
    "best_employee(work_hours)"
   ]
  },
  {
   "cell_type": "code",
   "execution_count": 38,
   "id": "040d3158",
   "metadata": {},
   "outputs": [],
   "source": [
    "from random import shuffle"
   ]
  },
  {
   "cell_type": "code",
   "execution_count": 39,
   "id": "21eb0bc2",
   "metadata": {},
   "outputs": [],
   "source": [
    "def shuffle_list(mylist):\n",
    "    shuffle(mylist)\n",
    "    return mylist"
   ]
  },
  {
   "cell_type": "code",
   "execution_count": 47,
   "id": "ddf19693",
   "metadata": {},
   "outputs": [],
   "source": [
    "def guess_number():\n",
    "    \n",
    "    guess = ' '\n",
    "    while guess not in ['0','1','2']:\n",
    "        guess = input('pick a number < 2')\n",
    "    return int(guess)"
   ]
  },
  {
   "cell_type": "code",
   "execution_count": 48,
   "id": "cf226a6d",
   "metadata": {},
   "outputs": [],
   "source": [
    "def check_list(mylist, guess):\n",
    "    if mylist[guess] == '0':\n",
    "        print('correct')\n",
    "    else:\n",
    "        print('wrong')\n",
    "        print(mylist)"
   ]
  },
  {
   "cell_type": "code",
   "execution_count": 46,
   "id": "330b305f",
   "metadata": {},
   "outputs": [
    {
     "name": "stdout",
     "output_type": "stream",
     "text": [
      "pick a number < 21\n",
      "wrong\n",
      "[' ', ' ', '0']\n"
     ]
    }
   ],
   "source": [
    "my_list = ['0',' ', ' ']\n",
    "\n",
    "mylist = shuffle_list(my_list)\n",
    "guess = guess_number()\n",
    "check_list(mylist, guess)"
   ]
  },
  {
   "cell_type": "code",
   "execution_count": 2,
   "id": "9ccbec2d",
   "metadata": {},
   "outputs": [],
   "source": [
    "def hello(*args):\n",
    "    print(args)"
   ]
  },
  {
   "cell_type": "code",
   "execution_count": 15,
   "id": "ad75ea6f",
   "metadata": {},
   "outputs": [
    {
     "name": "stdout",
     "output_type": "stream",
     "text": [
      "(5, 3)\n"
     ]
    }
   ],
   "source": [
    "hello(5,3)"
   ]
  },
  {
   "cell_type": "code",
   "execution_count": 27,
   "id": "a0fb0912",
   "metadata": {},
   "outputs": [],
   "source": [
    "def hello1(**kwargs):\n",
    "    print(kwargs)\n",
    "    if 'fruit' in kwargs:\n",
    "        print( f\"i like {kwargs['fruit']}\")\n",
    "    else:\n",
    "        pass"
   ]
  },
  {
   "cell_type": "code",
   "execution_count": 28,
   "id": "bd3c21e5",
   "metadata": {},
   "outputs": [
    {
     "name": "stdout",
     "output_type": "stream",
     "text": [
      "{'fruit': 'apple', 'fruit2': 'orange'}\n",
      "i like apple\n"
     ]
    }
   ],
   "source": [
    "hello1(fruit='apple', fruit2='orange')"
   ]
  },
  {
   "cell_type": "code",
   "execution_count": 30,
   "id": "14a6c18e",
   "metadata": {},
   "outputs": [],
   "source": [
    "def myfunc(*args, **kwargs):\n",
    "    print(f\"i would like {args[0]} {kwargs['food']}\")"
   ]
  },
  {
   "cell_type": "code",
   "execution_count": 31,
   "id": "d7b5ae9d",
   "metadata": {},
   "outputs": [
    {
     "name": "stdout",
     "output_type": "stream",
     "text": [
      "i would like 10 eggs\n"
     ]
    }
   ],
   "source": [
    "myfunc(10,20,food = 'eggs')"
   ]
  },
  {
   "cell_type": "code",
   "execution_count": null,
   "id": "a962c89f",
   "metadata": {},
   "outputs": [],
   "source": []
  },
  {
   "cell_type": "code",
   "execution_count": null,
   "id": "c331fbf3",
   "metadata": {},
   "outputs": [],
   "source": []
  },
  {
   "cell_type": "code",
   "execution_count": null,
   "id": "1a5f755c",
   "metadata": {},
   "outputs": [],
   "source": []
  }
 ],
 "metadata": {
  "kernelspec": {
   "display_name": "Python 3",
   "language": "python",
   "name": "python3"
  },
  "language_info": {
   "codemirror_mode": {
    "name": "ipython",
    "version": 3
   },
   "file_extension": ".py",
   "mimetype": "text/x-python",
   "name": "python",
   "nbconvert_exporter": "python",
   "pygments_lexer": "ipython3",
   "version": "3.8.8"
  }
 },
 "nbformat": 4,
 "nbformat_minor": 5
}
