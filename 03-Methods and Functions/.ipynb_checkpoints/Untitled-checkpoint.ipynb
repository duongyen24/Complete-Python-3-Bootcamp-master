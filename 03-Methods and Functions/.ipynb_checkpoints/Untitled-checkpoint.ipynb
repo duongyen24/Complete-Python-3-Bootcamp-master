{
 "cells": [
  {
   "cell_type": "code",
   "execution_count": 1,
   "id": "50ee691d",
   "metadata": {},
   "outputs": [],
   "source": [
    "mylist = [1,2,3]"
   ]
  },
  {
   "cell_type": "code",
   "execution_count": 2,
   "id": "78e9a2d2",
   "metadata": {},
   "outputs": [],
   "source": [
    "mylist.append(4)"
   ]
  },
  {
   "cell_type": "code",
   "execution_count": 3,
   "id": "95be2caf",
   "metadata": {},
   "outputs": [
    {
     "data": {
      "text/plain": [
       "[1, 2, 3, 4]"
      ]
     },
     "execution_count": 3,
     "metadata": {},
     "output_type": "execute_result"
    }
   ],
   "source": [
    "mylist"
   ]
  },
  {
   "cell_type": "code",
   "execution_count": 7,
   "id": "e56223ae",
   "metadata": {},
   "outputs": [
    {
     "data": {
      "text/plain": [
       "(0, 1, 2, 3, 4, 5, 6, 7, 8)"
      ]
     },
     "execution_count": 7,
     "metadata": {},
     "output_type": "execute_result"
    }
   ],
   "source": [
    "tuple(range(0,9))"
   ]
  },
  {
   "cell_type": "code",
   "execution_count": 7,
   "id": "e1fba37f",
   "metadata": {},
   "outputs": [],
   "source": [
    "#function\n",
    "def count_num(number):\n",
    "    evenNum = []\n",
    "    for i in number:\n",
    "        if i %2 ==0:\n",
    "            evenNum.append(i)\n",
    "        else:\n",
    "            pass\n",
    "    return evenNum"
   ]
  },
  {
   "cell_type": "code",
   "execution_count": 8,
   "id": "c8c00d26",
   "metadata": {},
   "outputs": [
    {
     "data": {
      "text/plain": [
       "[2, 4, 6]"
      ]
     },
     "execution_count": 8,
     "metadata": {},
     "output_type": "execute_result"
    }
   ],
   "source": [
    "count_num([1,2,3,4,5,6])"
   ]
  },
  {
   "cell_type": "code",
   "execution_count": 11,
   "id": "f968c59d",
   "metadata": {},
   "outputs": [],
   "source": [
    "work_hours = [('a',100),('b',400),('c',500)]\n",
    "def best_employee(work_count):\n",
    "    \n",
    "    the_best =''\n",
    "    large_hour = 0\n",
    "    for employee,hours in work_count:\n",
    "        if hours > large_hour:\n",
    "            large_hour = hours\n",
    "            the_best = employee\n",
    "        else:\n",
    "            pass\n",
    "        \n",
    "    #return\n",
    "    return(the_best, hours)"
   ]
  },
  {
   "cell_type": "code",
   "execution_count": 12,
   "id": "431ed378",
   "metadata": {},
   "outputs": [
    {
     "data": {
      "text/plain": [
       "('c', 500)"
      ]
     },
     "execution_count": 12,
     "metadata": {},
     "output_type": "execute_result"
    }
   ],
   "source": [
    "best_employee(work_hours)"
   ]
  },
  {
   "cell_type": "code",
   "execution_count": 13,
   "id": "1e3ea25e",
   "metadata": {},
   "outputs": [],
   "source": [
    "example = [1,2,3,4,5,6]"
   ]
  },
  {
   "cell_type": "code",
   "execution_count": 14,
   "id": "14f5abf0",
   "metadata": {},
   "outputs": [],
   "source": [
    "from random import shuffle"
   ]
  },
  {
   "cell_type": "code",
   "execution_count": 15,
   "id": "1233fe10",
   "metadata": {},
   "outputs": [],
   "source": [
    "shuffle(example)"
   ]
  },
  {
   "cell_type": "code",
   "execution_count": 16,
   "id": "0d220e19",
   "metadata": {},
   "outputs": [
    {
     "data": {
      "text/plain": [
       "[6, 2, 4, 3, 1, 5]"
      ]
     },
     "execution_count": 16,
     "metadata": {},
     "output_type": "execute_result"
    }
   ],
   "source": [
    "example"
   ]
  },
  {
   "cell_type": "code",
   "execution_count": 17,
   "id": "c9dd2bae",
   "metadata": {},
   "outputs": [],
   "source": [
    "def shuffle_list(mylist):\n",
    "    shuffle(mylist)\n",
    "    return mylist"
   ]
  },
  {
   "cell_type": "code",
   "execution_count": 19,
   "id": "6b245f2b",
   "metadata": {},
   "outputs": [],
   "source": [
    "result = shuffle_list(example)"
   ]
  },
  {
   "cell_type": "code",
   "execution_count": 20,
   "id": "35e1333e",
   "metadata": {},
   "outputs": [
    {
     "data": {
      "text/plain": [
       "[2, 6, 1, 5, 3, 4]"
      ]
     },
     "execution_count": 20,
     "metadata": {},
     "output_type": "execute_result"
    }
   ],
   "source": [
    "result"
   ]
  },
  {
   "cell_type": "code",
   "execution_count": 22,
   "id": "9b4b30c8",
   "metadata": {},
   "outputs": [],
   "source": [
    "def guess_number():\n",
    "    \n",
    "    guess = ' '\n",
    "    while guess not in ['0','1','2']:\n",
    "        guess = input('pick a number < 2')\n",
    "    return int(guess)"
   ]
  },
  {
   "cell_type": "code",
   "execution_count": 23,
   "id": "781ff1cb",
   "metadata": {},
   "outputs": [
    {
     "name": "stdout",
     "output_type": "stream",
     "text": [
      "pick a number < 28\n",
      "pick a number < 22\n"
     ]
    },
    {
     "data": {
      "text/plain": [
       "2"
      ]
     },
     "execution_count": 23,
     "metadata": {},
     "output_type": "execute_result"
    }
   ],
   "source": [
    "guess_number()"
   ]
  },
  {
   "cell_type": "code",
   "execution_count": 24,
   "id": "ba0855ad",
   "metadata": {},
   "outputs": [],
   "source": [
    "def check_list(mylist, guess):\n",
    "    if(mylist[guess] == '0'):\n",
    "        print('wrong')\n",
    "    else:\n",
    "        print(mylist)"
   ]
  },
  {
   "cell_type": "code",
   "execution_count": 27,
   "id": "e0731da6",
   "metadata": {},
   "outputs": [
    {
     "data": {
      "text/plain": [
       "['0', ' ', ' ']"
      ]
     },
     "execution_count": 27,
     "metadata": {},
     "output_type": "execute_result"
    }
   ],
   "source": [
    "my_list = ['0',' ', ' ']\n",
    "\n",
    "shuffle_list(my_list)"
   ]
  },
  {
   "cell_type": "code",
   "execution_count": null,
   "id": "703babd3",
   "metadata": {},
   "outputs": [],
   "source": []
  },
  {
   "cell_type": "code",
   "execution_count": null,
   "id": "986fd03e",
   "metadata": {},
   "outputs": [],
   "source": []
  },
  {
   "cell_type": "code",
   "execution_count": null,
   "id": "38f14c3d",
   "metadata": {},
   "outputs": [],
   "source": []
  },
  {
   "cell_type": "code",
   "execution_count": null,
   "id": "e99e7bf4",
   "metadata": {},
   "outputs": [],
   "source": []
  },
  {
   "cell_type": "code",
   "execution_count": null,
   "id": "371ae8be",
   "metadata": {},
   "outputs": [],
   "source": []
  }
 ],
 "metadata": {
  "kernelspec": {
   "display_name": "Python 3",
   "language": "python",
   "name": "python3"
  },
  "language_info": {
   "codemirror_mode": {
    "name": "ipython",
    "version": 3
   },
   "file_extension": ".py",
   "mimetype": "text/x-python",
   "name": "python",
   "nbconvert_exporter": "python",
   "pygments_lexer": "ipython3",
   "version": "3.8.8"
  }
 },
 "nbformat": 4,
 "nbformat_minor": 5
}
